{
 "cells": [
  {
   "cell_type": "code",
   "execution_count": 1,
   "metadata": {},
   "outputs": [
    {
     "name": "stdout",
     "output_type": "stream",
     "text": [
      "최대 사용자 수: 10명\n"
     ]
    },
    {
     "name": "stderr",
     "output_type": "stream",
     "text": [
      "C:\\Users\\Public\\Documents\\ESTsoft\\CreatorTemp\\ipykernel_125208\\1683789386.py:45: FutureWarning: The behavior of DataFrame concatenation with empty or all-NA entries is deprecated. In a future version, this will no longer exclude empty or all-NA columns when determining the result dtypes. To retain the old behavior, exclude the relevant entries before the concat operation.\n",
      "  merged_df = pd.concat(data_frames, ignore_index=True, sort=False)\n"
     ]
    },
    {
     "name": "stdout",
     "output_type": "stream",
     "text": [
      "\n",
      "데이터가 성공적으로 병합되어 저장되었습니다: C:\\Users\\gadi2\\Desktop\\Downloads\\2.라벨링데이터\\csv\\merged_kiosk_analysis.csv\n"
     ]
    }
   ],
   "source": [
    "import pandas as pd\n",
    "import glob\n",
    "from pathlib import Path\n",
    "\n",
    "def merge_csv_files(folder_path, output_file='merged_kiosk_analysis.csv'):\n",
    "    \"\"\"여러 CSV 파일을 병합하여 하나의 CSV로 저장합니다.\"\"\"\n",
    "    \n",
    "    # 폴더 내 모든 CSV 파일 경로 가져오기\n",
    "    csv_files = glob.glob(f\"{folder_path}/*.csv\")\n",
    "    \n",
    "    if not csv_files:\n",
    "        print(f\"오류: '{folder_path}' 폴더에 CSV 파일이 없습니다.\")\n",
    "        return None\n",
    "    \n",
    "    # 최대 사용자 수를 추적할 변수\n",
    "    max_users = 0\n",
    "    \n",
    "    # 모든 CSV 파일을 읽고 최대 user_num 추적\n",
    "    data_frames = []\n",
    "    for csv_file in csv_files:\n",
    "        df = pd.read_csv(csv_file)\n",
    "        \n",
    "        # 각 데이터프레임에 해당 파일명을 추가\n",
    "        df['source_file'] = Path(csv_file).name  # 파일명만 추가\n",
    "        \n",
    "        # 최대 user_num을 찾기\n",
    "        if 'user_num' in df.columns:\n",
    "            max_users = max(max_users, df['user_num'].max())\n",
    "        \n",
    "        data_frames.append(df)\n",
    "    \n",
    "    print(f\"최대 사용자 수: {max_users}명\")\n",
    "    \n",
    "    # 최대 사용자 수에 맞게 모든 파일의 컬럼을 통일\n",
    "    for i, df in enumerate(data_frames):\n",
    "        # 최대 사용자 수보다 적은 열을 null로 채우기\n",
    "        user_columns = [f'user_{i}_age' for i in range(max_users)] + [f'user_{i}_gender' for i in range(max_users)] + [f'user_{i}_disability' for i in range(max_users)]\n",
    "        \n",
    "        # 누락된 열을 추가하고 null로 채우기\n",
    "        for col in user_columns:\n",
    "            if col not in df.columns:\n",
    "                df[col] = None\n",
    "    \n",
    "    # 모든 데이터를 합치기\n",
    "    merged_df = pd.concat(data_frames, ignore_index=True, sort=False)\n",
    "    \n",
    "    # 컬럼 순서 정리 (user_num, 나머지 메타데이터, user 데이터)\n",
    "    all_columns = ['file_name', 'format', 'size', 'width_height', 'environment',\n",
    "                   'frame_rate', 'total_frames', 'camera_height', 'camera_angle',\n",
    "                   'InteractionType', 'space_context', 'action_type_0_duration', \n",
    "                   'action_type_1_duration', 'action_type_2_duration', 'action_type_3_duration', 'user_num']\n",
    "    \n",
    "    user_columns = []\n",
    "    for i in range(max_users):\n",
    "        user_columns.extend([f'user_{i}_age', f'user_{i}_gender', f'user_{i}_disability'])\n",
    "    \n",
    "    all_columns.extend(user_columns)\n",
    "    all_columns.append('source_file')  # 마지막에 source_file 추가\n",
    "    \n",
    "    # 열 순서 맞추기\n",
    "    merged_df = merged_df[all_columns]\n",
    "    \n",
    "    # CSV로 저장\n",
    "    output_path = Path(folder_path) / output_file\n",
    "    merged_df.to_csv(output_path, index=False, encoding='utf-8')\n",
    "    \n",
    "    print(f\"\\n데이터가 성공적으로 병합되어 저장되었습니다: {output_path}\")\n",
    "    \n",
    "    return merged_df\n",
    "\n",
    "# 예시 실행\n",
    "if __name__ == \"__main__\":\n",
    "    folder_path = input(\"CSV 파일들이 있는 폴더 경로를 입력해주세요: \").strip()\n",
    "    merge_csv_files(folder_path)\n"
   ]
  }
 ],
 "metadata": {
  "kernelspec": {
   "display_name": "Python 3",
   "language": "python",
   "name": "python3"
  },
  "language_info": {
   "codemirror_mode": {
    "name": "ipython",
    "version": 3
   },
   "file_extension": ".py",
   "mimetype": "text/x-python",
   "name": "python",
   "nbconvert_exporter": "python",
   "pygments_lexer": "ipython3",
   "version": "3.12.6"
  }
 },
 "nbformat": 4,
 "nbformat_minor": 2
}
